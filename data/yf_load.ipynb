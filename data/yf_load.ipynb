{
 "cells": [
  {
   "cell_type": "code",
   "execution_count": 1,
   "id": "d8cf6bc4",
   "metadata": {},
   "outputs": [
    {
     "name": "stderr",
     "output_type": "stream",
     "text": [
      "[*********************100%***********************]  218 of 218 completed\n",
      "\n",
      "4 Failed downloads:\n",
      "['FISV', 'MRO', 'PKI', 'ABC']: YFPricesMissingError('possibly delisted; no price data found  (period=20y) (Yahoo error = \"No data found, symbol may be delisted\")')\n"
     ]
    }
   ],
   "source": [
    "import yfinance as yf\n",
    "import pandas as pd\n",
    "\n",
    "# Load tickers from tickers_list.csv\n",
    "tickers_df = pd.read_csv(\"tickers_list.csv\")\n",
    "tickers = tickers_df.iloc[:, 0].astype(str).str.upper().tolist()\n",
    "\n",
    "# Download OHLCV data for all tickers (last 20 years as example)\n",
    "data_yf = yf.download(\n",
    "    tickers,\n",
    "    period=\"20y\",\n",
    "    auto_adjust=True,\n",
    "    group_by=\"ticker\",\n",
    "    progress=True\n",
    ")\n",
    "\n",
    "# Example: Access OHLCV for a single ticker (e.g., 'AAPL')\n",
    "# aapl_ohlcv = data['AAPL']\n",
    "\n",
    "# To save all data to disk (optional)\n",
    "data_yf.to_pickle(\"all_ohlcv_data.pkl\")"
   ]
  },
  {
   "cell_type": "code",
   "execution_count": 2,
   "id": "7de95f87",
   "metadata": {},
   "outputs": [
    {
     "name": "stdout",
     "output_type": "stream",
     "text": [
      "Ticker            GWW                                                 COF  \\\n",
      "Price            Open       High        Low      Close  Volume       Open   \n",
      "Date                                                                        \n",
      "2005-05-03  39.506193  39.670327  38.821116  39.185062  559800  52.875804   \n",
      "2005-05-04  39.534755  40.069973  39.135125  40.069973  723200  53.023718   \n",
      "2005-05-05  39.926639  40.098645  39.704468  39.955307  464000  53.726250   \n",
      "2005-05-06  40.134477  40.636159  40.055641  40.378151  361600  53.635427   \n",
      "2005-05-09  40.421152  40.421152  39.783299  39.991138  596200  52.910431   \n",
      "\n",
      "Ticker                                                ...        CAH  \\\n",
      "Price            High        Low      Close   Volume  ...       Open   \n",
      "Date                                                  ...              \n",
      "2005-05-03  53.622723  52.720505  52.927570  1741800  ...  25.527451   \n",
      "2005-05-04  54.162582  52.942370  53.615337  2731000  ...  25.545804   \n",
      "2005-05-05  54.162565  52.883196  53.245560  2235800  ...  25.688006   \n",
      "2005-05-06  53.820376  52.940014  52.940014  1835700  ...  25.596262   \n",
      "2005-05-09  53.480080  52.422167  53.050995  1827100  ...  25.619198   \n",
      "\n",
      "Ticker                                                     NKE            \\\n",
      "Price            High        Low      Close   Volume      Open      High   \n",
      "Date                                                                       \n",
      "2005-05-03  25.637542  25.220112  25.380663  1907100  7.516664  7.614093   \n",
      "2005-05-04  25.802685  25.380669  25.642136  1641700  7.589737  7.638452   \n",
      "2005-05-05  25.688006  25.298099  25.449474  1434800  7.566351  7.667676   \n",
      "2005-05-06  25.747639  25.504519  25.646721  1555300  7.598503  7.676447   \n",
      "2005-05-09  25.885254  25.472410  25.802685  1460700  7.586815  7.670605   \n",
      "\n",
      "Ticker                                   \n",
      "Price            Low     Close   Volume  \n",
      "Date                                     \n",
      "2005-05-03  7.500101  7.575121  9388000  \n",
      "2005-05-04  7.554662  7.565380  8381600  \n",
      "2005-05-05  7.533224  7.574144  8152800  \n",
      "2005-05-06  7.573172  7.578043  7956800  \n",
      "2005-05-09  7.566355  7.670605  6876800  \n",
      "\n",
      "[5 rows x 1094 columns]\n",
      "<class 'pandas.core.frame.DataFrame'>\n",
      "DatetimeIndex: 5033 entries, 2005-05-03 to 2025-05-02\n",
      "Columns: 1094 entries, ('GWW', 'Open') to ('NKE', 'Volume')\n",
      "dtypes: float64(880), int64(214)\n",
      "memory usage: 42.0 MB\n",
      "(5033, 1094)\n"
     ]
    }
   ],
   "source": [
    "print(data_yf.head())\n",
    "data_yf.describe()\n",
    "data_yf.info()\n",
    "print(data_yf.shape)"
   ]
  }
 ],
 "metadata": {
  "kernelspec": {
   "display_name": "amp_ml",
   "language": "python",
   "name": "python3"
  },
  "language_info": {
   "codemirror_mode": {
    "name": "ipython",
    "version": 3
   },
   "file_extension": ".py",
   "mimetype": "text/x-python",
   "name": "python",
   "nbconvert_exporter": "python",
   "pygments_lexer": "ipython3",
   "version": "3.10.13"
  }
 },
 "nbformat": 4,
 "nbformat_minor": 5
}
