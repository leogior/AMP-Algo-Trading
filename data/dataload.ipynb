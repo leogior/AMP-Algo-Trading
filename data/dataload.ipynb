{
 "cells": [
  {
   "cell_type": "code",
   "execution_count": 1,
   "id": "b43fbbfb",
   "metadata": {},
   "outputs": [],
   "source": [
    "from dataClass import DataClass\n",
    "import pandas as pd\n",
    "\n",
    "directory = \"stock_market_data/sp500/csv\"\n",
    "tickers_csv = \"tickers_list.csv\"\n",
    "tickers_df = pd.read_csv(tickers_csv)\n",
    "# Initialize with your directory and tickers list\n",
    "data_loader = DataClass(\n",
    "    directory=directory,\n",
    "    tickers_csv=tickers_csv\n",
    ")\n",
    "\n",
    "# Load the Adjusted Close dataframe\n",
    "adj_close_df = data_loader.load_adjusted_close()"
   ]
  },
  {
   "cell_type": "code",
   "execution_count": 2,
   "id": "75abbc53",
   "metadata": {},
   "outputs": [
    {
     "name": "stdout",
     "output_type": "stream",
     "text": [
      "171\n"
     ]
    }
   ],
   "source": [
    "print(adj_close_df.shape[1])"
   ]
  },
  {
   "cell_type": "code",
   "execution_count": 5,
   "id": "5b66f4e7",
   "metadata": {},
   "outputs": [
    {
     "name": "stdout",
     "output_type": "stream",
     "text": [
      "{'CI', 'KLAC', 'WFC', 'L', 'QCOM', 'UNH', 'IPG', 'AES', 'ALL', 'NUE', 'ETR', 'BF.B', 'ORCL', 'CVX', 'PFG', 'GLW', 'PGR', 'CMA', 'SYY', 'GS', 'DVN', 'HIG', 'MAS', 'SPGI', 'NKE', 'PNC', 'SNA', 'EXC', 'CVS', 'DHR', 'CCL', 'WMT', 'NEM', 'COF', 'DUK', 'CSX', 'PPL', 'INTC', 'AFL', 'CMCSA', 'MS', 'TGT', 'CMS', 'ETN', 'LLY', 'NVDA', 'ADBE', 'AIG'}\n",
      "48\n"
     ]
    }
   ],
   "source": [
    "missing_tickers = set(tickers_df.iloc[:, 0].astype(str).str.upper()) - set(adj_close_df.columns[1:])\n",
    "print(missing_tickers)\n",
    "print(len(missing_tickers))"
   ]
  }
 ],
 "metadata": {
  "kernelspec": {
   "display_name": "amp_ml",
   "language": "python",
   "name": "python3"
  },
  "language_info": {
   "codemirror_mode": {
    "name": "ipython",
    "version": 3
   },
   "file_extension": ".py",
   "mimetype": "text/x-python",
   "name": "python",
   "nbconvert_exporter": "python",
   "pygments_lexer": "ipython3",
   "version": "3.10.13"
  }
 },
 "nbformat": 4,
 "nbformat_minor": 5
}
