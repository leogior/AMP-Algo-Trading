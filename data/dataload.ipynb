{
 "cells": [
  {
   "cell_type": "code",
   "execution_count": 3,
   "id": "b43fbbfb",
   "metadata": {},
   "outputs": [],
   "source": [
    "from dataClass import DataClass\n",
    "import pandas as pd\n",
    "\n",
    "directory = \"stock_market_data/sp500/csv\"\n",
    "tickers_csv = \"tickers_list.csv\"\n",
    "tickers_df = pd.read_csv(tickers_csv)\n",
    "# Initialize with your directory and tickers list\n",
    "data_loader = DataClass(\n",
    "    directory=directory,\n",
    "    tickers_csv=tickers_csv\n",
    ")\n",
    "\n",
    "# Load the Adjusted Close dataframe\n",
    "adj_close_df = data_loader.load_adjusted_close()"
   ]
  },
  {
   "cell_type": "code",
   "execution_count": 4,
   "id": "75abbc53",
   "metadata": {},
   "outputs": [
    {
     "name": "stdout",
     "output_type": "stream",
     "text": [
      "171\n"
     ]
    }
   ],
   "source": [
    "print(adj_close_df.shape[1])"
   ]
  },
  {
   "cell_type": "code",
   "execution_count": 5,
   "id": "5b66f4e7",
   "metadata": {},
   "outputs": [
    {
     "name": "stdout",
     "output_type": "stream",
     "text": [
      "{'WFC', 'CMA', 'NUE', 'PPL', 'KLAC', 'NKE', 'MAS', 'GLW', 'WMT', 'PFG', 'PGR', 'INTC', 'HIG', 'AES', 'GS', 'ETN', 'L', 'BF-B', 'DHR', 'CMCSA', 'UNH', 'CI', 'CMS', 'CCL', 'LLY', 'SPGI', 'ADBE', 'DUK', 'AFL', 'ETR', 'ORCL', 'COF', 'NVDA', 'EXC', 'MS', 'CSX', 'PNC', 'CVS', 'IPG', 'SYY', 'SNA', 'TGT', 'NEM', 'QCOM', 'AIG', 'CVX', 'ALL', 'DVN'}\n",
      "48\n"
     ]
    }
   ],
   "source": [
    "missing_tickers = set(tickers_df.iloc[:, 0].astype(str).str.upper()) - set(adj_close_df.columns[1:])\n",
    "print(missing_tickers)\n",
    "print(len(missing_tickers))"
   ]
  },
  {
   "cell_type": "code",
   "execution_count": 6,
   "id": "8e3cee3b",
   "metadata": {},
   "outputs": [
    {
     "name": "stderr",
     "output_type": "stream",
     "text": [
      "[*********************100%***********************]  48 of 48 completed\n"
     ]
    }
   ],
   "source": [
    "import yfinance as yf\n",
    "\n",
    "# List of missing tickers\n",
    "missing_tickers = set(tickers_df.iloc[:, 0].astype(str).str.upper()) - set(adj_close_df.columns[1:])\n",
    "\n",
    "# Download Adjusted Close for all missing tickers at once (vectorized)\n",
    "if missing_tickers:\n",
    "    data = yf.download(\n",
    "        list(missing_tickers),\n",
    "        start=adj_close_df['Date'].min(),\n",
    "        end=adj_close_df['Date'].max(),\n",
    "        progress=True,\n",
    "        auto_adjust=False,\n",
    "    )['Adj Close']\n",
    "    if isinstance(data, pd.Series):\n",
    "        data = data.to_frame()\n",
    "    data = data.reset_index()\n",
    "    # Merge with existing adj_close_df on 'Date'\n",
    "    adj_close_df = pd.merge(adj_close_df, data, on='Date', how='outer')\n",
    "    adj_close_df = adj_close_df.sort_values('Date').reset_index(drop=False)\n",
    "else:\n",
    "    print('No missing tickers to download.')"
   ]
  },
  {
   "cell_type": "code",
   "execution_count": 7,
   "id": "d648c576",
   "metadata": {},
   "outputs": [
    {
     "name": "stdout",
     "output_type": "stream",
     "text": [
      "(13355, 49)\n",
      "(13356, 220)\n",
      "Ticker       Date        ADBE        AES        AFL        AIG         ALL  \\\n",
      "0      1970-01-02         NaN        NaN        NaN        NaN         NaN   \n",
      "1      1970-01-05         NaN        NaN        NaN        NaN         NaN   \n",
      "2      1970-01-06         NaN        NaN        NaN        NaN         NaN   \n",
      "3      1970-01-07         NaN        NaN        NaN        NaN         NaN   \n",
      "4      1970-01-08         NaN        NaN        NaN        NaN         NaN   \n",
      "...           ...         ...        ...        ...        ...         ...   \n",
      "13350  2022-12-05  334.089996  25.516567  67.572411  58.206039  121.487038   \n",
      "13351  2022-12-06  331.149994  25.300701  67.619972  58.357388  123.255791   \n",
      "13352  2022-12-07  326.679993  25.165791  67.724586  58.679020  123.066628   \n",
      "13353  2022-12-08  332.579987  25.489584  66.887543  58.896603  122.990959   \n",
      "13354  2022-12-09  330.640015  25.651482  66.545128  59.133095  121.591087   \n",
      "\n",
      "Ticker       BF-B   CCL          CI        CMA  ...         PNC        PPL  \\\n",
      "0             NaN   NaN         NaN        NaN  ...         NaN        NaN   \n",
      "1             NaN   NaN         NaN        NaN  ...         NaN        NaN   \n",
      "2             NaN   NaN         NaN        NaN  ...         NaN        NaN   \n",
      "3             NaN   NaN         NaN        NaN  ...         NaN        NaN   \n",
      "4             NaN   NaN         NaN        NaN  ...         NaN        NaN   \n",
      "...           ...   ...         ...        ...  ...         ...        ...   \n",
      "13350   71.241158  9.68  314.769348  57.960255  ...  138.082336  26.648579   \n",
      "13351   70.885048  9.30  316.932678  57.202202  ...  136.955032  26.850185   \n",
      "13352   65.707008  8.89  319.384338  56.993088  ...  139.876999  26.556938   \n",
      "13353   65.572281  9.03  320.643829  56.792686  ...  139.191620  26.838623   \n",
      "13354   65.370155  8.87  319.317017  57.454887  ...  138.957108  26.737036   \n",
      "\n",
      "Ticker        QCOM         SNA        SPGI        SYY         TGT         UNH  \\\n",
      "0              NaN         NaN         NaN        NaN         NaN         NaN   \n",
      "1              NaN         NaN         NaN        NaN         NaN         NaN   \n",
      "2              NaN         NaN         NaN        NaN         NaN         NaN   \n",
      "3              NaN         NaN         NaN        NaN         NaN         NaN   \n",
      "4              NaN         NaN         NaN        NaN         NaN         NaN   \n",
      "...            ...         ...         ...        ...         ...         ...   \n",
      "13350   117.132843  226.066132  343.651886  79.553703  144.518311  516.770203   \n",
      "13351   113.788902  223.632736  345.005646  78.740692  144.630249  520.904175   \n",
      "13352   112.297417  222.812149  344.838837  78.675293  143.426971  524.371460   \n",
      "13353   115.660370  220.859695  346.104370  78.413620  143.846725  529.210449   \n",
      "13354   113.095413  220.557877  340.159576  76.843681  142.046432  520.788269   \n",
      "\n",
      "Ticker        WFC        WMT  \n",
      "0             NaN        NaN  \n",
      "1             NaN        NaN  \n",
      "2             NaN        NaN  \n",
      "3             NaN        NaN  \n",
      "4             NaN        NaN  \n",
      "...           ...        ...  \n",
      "13350   41.042274  48.881809  \n",
      "13351   40.797867  48.314503  \n",
      "13352   39.904823  48.063087  \n",
      "13353   40.027035  48.137508  \n",
      "13354   39.951824  47.014786  \n",
      "\n",
      "[13355 rows x 49 columns]\n",
      "       index       Date       CSCO        TROW        MRO          BA  \\\n",
      "0          0 1970-01-02        NaN         NaN   0.820892    0.290567   \n",
      "1          1 1970-01-05        NaN         NaN   0.826797    0.301555   \n",
      "2          2 1970-01-06        NaN         NaN   0.812034    0.305218   \n",
      "3          3 1970-01-07        NaN         NaN   0.820892    0.306439   \n",
      "4          4 1970-01-08        NaN         NaN   0.850421    0.302776   \n",
      "...      ...        ...        ...         ...        ...         ...   \n",
      "13351  13351 2022-12-06  48.590000  121.330002  27.450001  178.429993   \n",
      "13352  13352 2022-12-07  48.180000  121.250000  27.410000  176.500000   \n",
      "13353  13353 2022-12-08  48.990002  122.260002  26.840000  179.080002   \n",
      "13354  13354 2022-12-09  48.459999  119.830002  26.170000  179.539993   \n",
      "13355  13355 2022-12-12  48.595001  120.055000  26.900000  186.410004   \n",
      "\n",
      "             MDT           A         MO        EIX  ...         PNC  \\\n",
      "0            NaN         NaN   0.008630        NaN  ...         NaN   \n",
      "1            NaN         NaN   0.008809        NaN  ...         NaN   \n",
      "2            NaN         NaN   0.008989        NaN  ...         NaN   \n",
      "3            NaN         NaN   0.009049        NaN  ...         NaN   \n",
      "4            NaN         NaN   0.008749        NaN  ...         NaN   \n",
      "...          ...         ...        ...        ...  ...         ...   \n",
      "13351  77.080002  151.350006  46.209999  66.019997  ...  136.955032   \n",
      "13352  76.910004  153.729996  46.369999  65.370003  ...  139.876999   \n",
      "13353  77.790001  156.279999  46.860001  65.400002  ...  139.191620   \n",
      "13354  78.589996  152.949997  46.709999  65.790001  ...  138.957108   \n",
      "13355  79.129997  155.399994  46.580002  66.120003  ...         NaN   \n",
      "\n",
      "             PPL        QCOM         SNA        SPGI        SYY         TGT  \\\n",
      "0            NaN         NaN         NaN         NaN        NaN         NaN   \n",
      "1            NaN         NaN         NaN         NaN        NaN         NaN   \n",
      "2            NaN         NaN         NaN         NaN        NaN         NaN   \n",
      "3            NaN         NaN         NaN         NaN        NaN         NaN   \n",
      "4            NaN         NaN         NaN         NaN        NaN         NaN   \n",
      "...          ...         ...         ...         ...        ...         ...   \n",
      "13351  26.850185  113.788902  223.632736  345.005646  78.740692  144.630249   \n",
      "13352  26.556938  112.297417  222.812149  344.838837  78.675293  143.426971   \n",
      "13353  26.838623  115.660370  220.859695  346.104370  78.413620  143.846725   \n",
      "13354  26.737036  113.095413  220.557877  340.159576  76.843681  142.046432   \n",
      "13355        NaN         NaN         NaN         NaN        NaN         NaN   \n",
      "\n",
      "              UNH        WFC        WMT  \n",
      "0             NaN        NaN        NaN  \n",
      "1             NaN        NaN        NaN  \n",
      "2             NaN        NaN        NaN  \n",
      "3             NaN        NaN        NaN  \n",
      "4             NaN        NaN        NaN  \n",
      "...           ...        ...        ...  \n",
      "13351  520.904175  40.797867  48.314503  \n",
      "13352  524.371460  39.904823  48.063087  \n",
      "13353  529.210449  40.027035  48.137508  \n",
      "13354  520.788269  39.951824  47.014786  \n",
      "13355         NaN        NaN        NaN  \n",
      "\n",
      "[13356 rows x 220 columns]\n"
     ]
    }
   ],
   "source": [
    "print(data.shape)\n",
    "print(adj_close_df.shape)\n",
    "\n",
    "print(data)\n",
    "print(adj_close_df)"
   ]
  }
 ],
 "metadata": {
  "kernelspec": {
   "display_name": "amp_ml",
   "language": "python",
   "name": "python3"
  },
  "language_info": {
   "codemirror_mode": {
    "name": "ipython",
    "version": 3
   },
   "file_extension": ".py",
   "mimetype": "text/x-python",
   "name": "python",
   "nbconvert_exporter": "python",
   "pygments_lexer": "ipython3",
   "version": "3.10.13"
  }
 },
 "nbformat": 4,
 "nbformat_minor": 5
}
