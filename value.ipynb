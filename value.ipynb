{
 "cells": [
  {
   "cell_type": "code",
   "execution_count": 1,
   "metadata": {},
   "outputs": [],
   "source": [
    "import numpy as np\n",
    "import pandas as pd\n",
    "from tqdm import tqdm\n",
    "\n",
    "\n",
    "from backtesterClass.orderClass import orders\n",
    "from backtesterClass.orderBookClass import OBData\n",
    "from backtesterClass.analysisClass import analysisClass\n",
    "\n",
    "\n",
    "from strats.movingAverageStrat import movingAverageStrat\n",
    "\n",
    "from utils.utils import global_perf, peformance_metrics\n",
    "\n",
    "from cProfile import Profile\n",
    "from pstats import SortKey, Stats\n",
    "import gc\n",
    "\n",
    "\n",
    "# Improve computationnal performance of the backtester - increases garbage collector threshold\n",
    "\n",
    "allocs, gen1, gen2 = gc.get_threshold()\n",
    "allocs = 5000\n",
    "gen1 = gen1*2\n",
    "gen2=gen2*2\n",
    "gc.set_threshold(allocs, gen1,gen2)"
   ]
  },
  {
   "cell_type": "markdown",
   "metadata": {},
   "source": [
    "## Load and Initialize data"
   ]
  },
  {
   "cell_type": "code",
   "execution_count": 2,
   "metadata": {},
   "outputs": [],
   "source": [
    "db_path = r\"data/all_ohlcv_data.csv\"\n",
    "dataClass = OBData(db_path)"
   ]
  },
  {
   "cell_type": "markdown",
   "metadata": {},
   "source": [
    "## Value Strategy"
   ]
  },
  {
   "cell_type": "markdown",
   "metadata": {},
   "source": [
    "•⁠  Value strategy:\n",
    "  - Value 1: "
   ]
  },
  {
   "cell_type": "code",
   "execution_count": 3,
   "metadata": {},
   "outputs": [],
   "source": [
    "valueTrader = None"
   ]
  },
  {
   "cell_type": "markdown",
   "metadata": {},
   "source": [
    "## Backtesting "
   ]
  },
  {
   "cell_type": "code",
   "execution_count": null,
   "metadata": {},
   "outputs": [],
   "source": [
    "for _ in tqdm(range(len(dataClass.OBData_))):\n",
    "    orderClass = orders()\n",
    "    valueTrader.strategy(orderClass)\n",
    "    OBData.step +=1 "
   ]
  },
  {
   "cell_type": "markdown",
   "metadata": {},
   "source": [
    "## Single Stock and Global Analysis - LTSM"
   ]
  },
  {
   "cell_type": "code",
   "execution_count": null,
   "metadata": {},
   "outputs": [],
   "source": [
    "analysisValue = analysisClass(valueTrader, path=r\"Results\", dashboardName=\"executionValueStrat\", dbName=\"dbValueStrat\")\n",
    "analysisValue.create_dashboard(\"AAPL\", show=True)"
   ]
  },
  {
   "cell_type": "code",
   "execution_count": null,
   "metadata": {},
   "outputs": [],
   "source": [
    "# Strategy instances\n",
    "strategies = {\n",
    "    \"valueTrader\": valueTrader,\n",
    "\n",
    "}\n",
    "\n",
    "global_perf(strategies, \"Value\")\n",
    "\n",
    "peformance_metrics(strategies)\n"
   ]
  }
 ],
 "metadata": {
  "kernelspec": {
   "display_name": "Python 3",
   "language": "python",
   "name": "python3"
  },
  "language_info": {
   "codemirror_mode": {
    "name": "ipython",
    "version": 3
   },
   "file_extension": ".py",
   "mimetype": "text/x-python",
   "name": "python",
   "nbconvert_exporter": "python",
   "pygments_lexer": "ipython3",
   "version": "3.11.3"
  }
 },
 "nbformat": 4,
 "nbformat_minor": 2
}
